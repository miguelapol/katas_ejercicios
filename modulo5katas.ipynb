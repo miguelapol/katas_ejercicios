{
 "cells": [
  {
   "cell_type": "markdown",
   "metadata": {},
   "source": [
    "##ejercicio1 Utilizar operadores aritmeticos"
   ]
  },
  {
   "cell_type": "markdown",
   "metadata": {},
   "source": [
    "#crear variables para almacenar las dos distancias "
   ]
  },
  {
   "cell_type": "code",
   "execution_count": null,
   "metadata": {},
   "outputs": [],
   "source": [
    "tierra=149597870\n",
    "jupyter=778547200"
   ]
  },
  {
   "cell_type": "markdown",
   "metadata": {},
   "source": [
    "Realizar operacion\n",
    "#calcular distancia entre planetas"
   ]
  },
  {
   "cell_type": "code",
   "execution_count": null,
   "metadata": {},
   "outputs": [],
   "source": [
    "tierra=149597870\n",
    "jupyter=778547200\n",
    "def distance(planeta1,planeta2):\n",
    "    resul=planeta2-planeta1\n",
    "    return resul\n",
    "result=distance(tierra,jupyter)\n",
    "print (result)\n",
    "result=result*0.621\n",
    "print (round(result))\n",
    "\n"
   ]
  },
  {
   "cell_type": "markdown",
   "metadata": {},
   "source": [
    "Ejercicio2 convierte cadenas en numeros y usar valores absolutos\n"
   ]
  },
  {
   "cell_type": "markdown",
   "metadata": {},
   "source": [
    "#realizar el calculo y determinar el valor abs\n",
    "#convertir de km a millas"
   ]
  },
  {
   "cell_type": "code",
   "execution_count": null,
   "metadata": {},
   "outputs": [],
   "source": [
    "planeta1=input('ingresa valor del primer planeta')\n",
    "planeta2=input('ingresa valor del segundo planeta')\n",
    "planeta1=int(planeta1)\n",
    "planeta2=int(planeta2)\n",
    "def distancekm(planeta1,planeta2):\n",
    "    resul=planeta2-planeta1\n",
    "    resul=abs(resul)\n",
    "    return resul\n",
    "result=distancekm(planeta1,planeta2)\n",
    "print('El resultado a km',result)\n",
    "result=round(result*0.621)\n",
    "print('El resultado a millas',result)\n"
   ]
  }
 ],
 "metadata": {
  "interpreter": {
   "hash": "7fffeb3a58d8a5edd33503e8ddaaecb91a86944f26323e2c47acc72f061712b3"
  },
  "kernelspec": {
   "display_name": "Python 3.10.0 64-bit",
   "language": "python",
   "name": "python3"
  },
  "language_info": {
   "codemirror_mode": {
    "name": "ipython",
    "version": 3
   },
   "file_extension": ".py",
   "mimetype": "text/x-python",
   "name": "python",
   "nbconvert_exporter": "python",
   "pygments_lexer": "ipython3",
   "version": "3.10.0"
  },
  "orig_nbformat": 4
 },
 "nbformat": 4,
 "nbformat_minor": 2
}
