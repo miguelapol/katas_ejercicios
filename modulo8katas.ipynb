{
 "cells": [
  {
   "cell_type": "markdown",
   "metadata": {},
   "source": [
    "#Creacion de diccionarios de Python\n",
    "cra un diccionario llamado planeta con los datos propuestos"
   ]
  },
  {
   "cell_type": "code",
   "execution_count": null,
   "metadata": {},
   "outputs": [],
   "source": [
    "planet={\n",
    "    'name':'Mars',\n",
    "    'moons':2\n",
    "}\n",
    "print('Name:',planet.get('name'),'Moons',planet.get('moons'))\n",
    "\n"
   ]
  },
  {
   "cell_type": "markdown",
   "metadata": {},
   "source": [
    "Agregar la clave circunferencia con los datos proporcionados previamente"
   ]
  },
  {
   "cell_type": "code",
   "execution_count": null,
   "metadata": {},
   "outputs": [],
   "source": [
    "planet={\n",
    "    'name':'Mars',\n",
    "    'moons':2\n",
    "}\n",
    "print('Name:',planet.get('name'),'Moons',planet.get('moons'))\n",
    "planet['diametro km']={\n",
    "    'polar':6752,\n",
    "    'equatorial':6792\n",
    "}\n",
    "print(f'Diametro polar',planet['diametro km']['polar'])"
   ]
  },
  {
   "cell_type": "markdown",
   "metadata": {},
   "source": [
    "#Ejercicio 2 programacion dinamica con diccioanrios\n",
    "se calculara el numero total de lunas del sistema solar asi como el numero\n",
    "promedio de lunas que tiene un planeta"
   ]
  },
  {
   "cell_type": "code",
   "execution_count": null,
   "metadata": {},
   "outputs": [],
   "source": [
    "planet_moons = {\n",
    "    'mercury': 0,\n",
    "    'venus': 0,\n",
    "    'earth': 1,\n",
    "    'mars': 2,\n",
    "    'jupiter': 79,\n",
    "    'saturn': 82,\n",
    "    'uranus': 27,\n",
    "    'neptune': 14,\n",
    "    'pluto': 5,\n",
    "    'haumea': 2,\n",
    "    'makemake': 1,\n",
    "    'eris': 1\n",
    "}\n",
    "planets=len(planet_moons.keys())\n",
    "total_moons=0\n",
    "for value in planet_moons.values():\n",
    "    total_moons+=value\n",
    "prome=total_moons/planets\n",
    "print('el numero de lunas son',total_moons)\n",
    "print('el numero de promedio es',round(prome))\n",
    "\n",
    "\n"
   ]
  },
  {
   "cell_type": "markdown",
   "metadata": {},
   "source": [
    "#nota usamos keys() para devolver clas claves del diccionario y usando len sabemos el numero de planetas"
   ]
  }
 ],
 "metadata": {
  "interpreter": {
   "hash": "7fffeb3a58d8a5edd33503e8ddaaecb91a86944f26323e2c47acc72f061712b3"
  },
  "kernelspec": {
   "display_name": "Python 3.10.0 64-bit",
   "language": "python",
   "name": "python3"
  },
  "language_info": {
   "codemirror_mode": {
    "name": "ipython",
    "version": 3
   },
   "file_extension": ".py",
   "mimetype": "text/x-python",
   "name": "python",
   "nbconvert_exporter": "python",
   "pygments_lexer": "ipython3",
   "version": "3.10.0"
  },
  "orig_nbformat": 4
 },
 "nbformat": 4,
 "nbformat_minor": 2
}
