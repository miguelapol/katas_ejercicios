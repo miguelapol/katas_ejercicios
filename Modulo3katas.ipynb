{
 "cells": [
  {
   "cell_type": "markdown",
   "metadata": {},
   "source": [
    "# Añadir el código necesario para crear una variable que guarde la velocidad del asteroide.\n",
    "# Escribe una expresión de prueba para calcular si necesita una advertencia.\n",
    "# Agregue las instrucciones que se ejecutarán si la expresión de prueba es true o false."
   ]
  },
  {
   "cell_type": "code",
   "execution_count": null,
   "metadata": {},
   "outputs": [],
   "source": [
    "velocidad= 49\n",
    "if velocidad >25:\n",
    "    print('asteroide se acerca a la Tierra')\n",
    "else:\n",
    "    print('No esta cerca')"
   ]
  },
  {
   "cell_type": "markdown",
   "metadata": {},
   "source": [
    "# Agrega el código para crear una variable para un asteroide que viaja a 19 km/s\n",
    "# Escribe varias expresiones de prueba para determinar si puedes ver el rayo de luz desde la tierra\n",
    "# Agrega las instrucciones que se ejecutarán si las expresiones de prueba son True o False"
   ]
  },
  {
   "cell_type": "code",
   "execution_count": null,
   "metadata": {},
   "outputs": [],
   "source": [
    "velocidad =19\n",
    "if velocidad>=20:\n",
    "    print ('Se ve el rayo de luz')\n",
    "else :\n",
    "    print('No es posible ver el rayo de luz')"
   ]
  },
  {
   "cell_type": "markdown",
   "metadata": {},
   "source": [
    "# Agrega el código para crear nuevas variables para la velocidad y el tamaño del asteroide\n",
    "# Para probar el código, prueba con varias velocidades y tamaños\n",
    "# Escribe varias expresiones de prueba o combinaciones de expresiones de prueba para determinar qué mensaj"
   ]
  },
  {
   "cell_type": "code",
   "execution_count": 4,
   "metadata": {},
   "outputs": [
    {
     "name": "stdout",
     "output_type": "stream",
     "text": [
      "el asteroide se quemara antes de llegar a tierra no hay problema\n"
     ]
    }
   ],
   "source": [
    "velocidad=26\n",
    "size=10\n",
    "if size>25 and velocidad>25:\n",
    "    print('el asteroide causara daño a impactar a tierra y se acerca a la tierra')\n",
    "elif size >25 and velocidad>=20:\n",
    "        print('el asteroide causara daño a impactar a tierra y se ve un rayo de luz')\n",
    "elif size<25 and velocidad>25:\n",
    "    print('el asteroide se quemara antes de llegar a tierra no hay problema') \n",
    "else:\n",
    "    print('Nada que ver aqui')\n",
    "    \n",
    "    \n",
    "  "
   ]
  }
 ],
 "metadata": {
  "interpreter": {
   "hash": "7fffeb3a58d8a5edd33503e8ddaaecb91a86944f26323e2c47acc72f061712b3"
  },
  "kernelspec": {
   "display_name": "Python 3.10.0 64-bit",
   "language": "python",
   "name": "python3"
  },
  "language_info": {
   "codemirror_mode": {
    "name": "ipython",
    "version": 3
   },
   "file_extension": ".py",
   "mimetype": "text/x-python",
   "name": "python",
   "nbconvert_exporter": "python",
   "pygments_lexer": "ipython3",
   "version": "3.10.0"
  },
  "orig_nbformat": 4
 },
 "nbformat": 4,
 "nbformat_minor": 2
}
