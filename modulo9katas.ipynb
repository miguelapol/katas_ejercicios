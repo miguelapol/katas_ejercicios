{
 "cells": [
  {
   "cell_type": "markdown",
   "metadata": {},
   "source": [
    "#Ejercicio de funciones en python\n",
    "Ejercicio 1: Trabajar con argumentos en funciones"
   ]
  },
  {
   "cell_type": "markdown",
   "metadata": {},
   "source": [
    "#Funcion para leer 3 tanques de combustibles y muestre promedio"
   ]
  },
  {
   "cell_type": "code",
   "execution_count": null,
   "metadata": {},
   "outputs": [],
   "source": [
    "def tanques(tanque1,tanque2,tanque3):\n",
    "    suma=(tanque1+tanque2+tanque3)/3\n",
    "    return suma\n",
    "tanque_promedio=tanques(80,70,85)\n",
    "print (round(tanque_promedio))"
   ]
  },
  {
   "cell_type": "markdown",
   "metadata": {},
   "source": [
    "#Funcion promedio"
   ]
  },
  {
   "cell_type": "code",
   "execution_count": null,
   "metadata": {},
   "outputs": [],
   "source": [
    "def average(values):\n",
    "    total=sum(values)\n",
    "    number_of_items=len(values)\n",
    "    return total/number_of_items\n",
    "promedio=average([80, 70, 85])\n",
    "print(round(promedio))"
   ]
  },
  {
   "cell_type": "markdown",
   "metadata": {},
   "source": [
    "#actualiza la funcion"
   ]
  },
  {
   "cell_type": "code",
   "execution_count": null,
   "metadata": {},
   "outputs": [],
   "source": [
    "def average(values):\n",
    "    total=sum(values)\n",
    "    number_of_items=len(values)\n",
    "    return total/number_of_items\n",
    "def tanques(tanque1,tanque2,tanque3):\n",
    "    return f\"\"\"Este es el siguiente reporte\n",
    "            Total promedio { round(average([tanque1,tanque2,tanque3]))}\n",
    "            el valor 1 tanque {tanque1}%\n",
    "            el segundo valor {tanque2}%\n",
    "            el tercer tanque {tanque3}%\n",
    "    \"\"\"\n",
    "tanque_promedio=tanques(80,70,85)\n",
    "print (tanque_promedio)"
   ]
  },
  {
   "cell_type": "markdown",
   "metadata": {},
   "source": [
    "Ejercicio 2 :trabajo con argumentos de palabra clave\n",
    "#funcion con informe preciso de la mision"
   ]
  },
  {
   "cell_type": "code",
   "execution_count": null,
   "metadata": {},
   "outputs": [],
   "source": [
    "def pre_launch(horalanzamiento,tiempovuelo,destino,tanquexterno,tanqueinterno):\n",
    "    return f\"\"\"\n",
    "                el destino es {destino},\n",
    "                 total de tiempo de vuelo {tiempovuelo+horalanzamiento}\n",
    "                 total combustible{tanquexterno+tanqueinterno}%          \n",
    "    \"\"\"\n",
    "\n",
    "print(pre_launch('10:15','5 horas','Earth',50,80))\n"
   ]
  },
  {
   "cell_type": "markdown",
   "metadata": {},
   "source": [
    "#nueva funcion considerando lo anterior usando *args **kwargs"
   ]
  },
  {
   "cell_type": "code",
   "execution_count": null,
   "metadata": {},
   "outputs": [],
   "source": [
    "def pre_launch(destino,*minutes,**fuel):\n",
    "    return f\"\"\"\n",
    "            el destino es {destino},\n",
    "            total de tiempo de vuelo {sum(minutes)} minutes\n",
    "            total combustible{sum(fuel.values())}%          \n",
    "    \"\"\"\n",
    "print(pre_launch('Saturn',10,50,50,main=5000,external=2000))"
   ]
  },
  {
   "cell_type": "markdown",
   "metadata": {},
   "source": [
    "Debido a que el combustible queda en los tanques especifico de cada tanque,\n",
    "actualiza la funcion para usar el nombre de cada tanque en el informe"
   ]
  },
  {
   "cell_type": "code",
   "execution_count": null,
   "metadata": {},
   "outputs": [],
   "source": [
    "def pre_launch(destino,*minutes,**fuel):\n",
    "    for tank_name,combustible in fuel.items():\n",
    "        print(\"{}=>{}\".format(tank_name,combustible))\n",
    "    report=f\"\"\"\n",
    "            el destino es {destino},\n",
    "            total de tiempo de vuelo {sum(minutes)} minutes\n",
    "            total combustible {sum(fuel.values())}%          \n",
    "    \"\"\"\n",
    "    return report\n",
    "\n",
    "\n",
    "print(pre_launch('Saturn',10,50,50,interno=5000,externo=2000,extra=5000))"
   ]
  }
 ],
 "metadata": {
  "interpreter": {
   "hash": "7fffeb3a58d8a5edd33503e8ddaaecb91a86944f26323e2c47acc72f061712b3"
  },
  "kernelspec": {
   "display_name": "Python 3.10.0 64-bit",
   "language": "python",
   "name": "python3"
  },
  "language_info": {
   "codemirror_mode": {
    "name": "ipython",
    "version": 3
   },
   "file_extension": ".py",
   "mimetype": "text/x-python",
   "name": "python",
   "nbconvert_exporter": "python",
   "pygments_lexer": "ipython3",
   "version": "3.10.0"
  },
  "orig_nbformat": 4
 },
 "nbformat": 4,
 "nbformat_minor": 2
}
